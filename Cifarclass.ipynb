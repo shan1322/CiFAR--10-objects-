{
 "cells": [
  {
   "cell_type": "code",
   "execution_count": 3,
   "metadata": {},
   "outputs": [
    {
     "name": "stderr",
     "output_type": "stream",
     "text": [
      "c:\\users\\shantanu\\appdata\\local\\programs\\python\\python36\\lib\\site-packages\\h5py\\__init__.py:36: FutureWarning: Conversion of the second argument of issubdtype from `float` to `np.floating` is deprecated. In future, it will be treated as `np.float64 == np.dtype(float).type`.\n",
      "  from ._conv import register_converters as _register_converters\n",
      "Using TensorFlow backend.\n"
     ]
    }
   ],
   "source": [
    "import math\n",
    "import numpy as np\n",
    "import h5py\n",
    "import matplotlib.pyplot as plt\n",
    "import scipy\n",
    "from PIL import Image\n",
    "from scipy import ndimage\n",
    "import tensorflow as tf\n",
    "from keras.preprocessing import image\n",
    "from tensorflow.python.framework import ops\n",
    "import pickle\n",
    "from matplotlib.pyplot import imshow\n",
    "import matplotlib.pyplot as plt\n",
    "from sklearn.preprocessing import OneHotEncoder\n",
    "#from cnn_utils import *\n",
    "\n",
    "import pandas as pd\n",
    "import os"
   ]
  },
  {
   "cell_type": "code",
   "execution_count": 84,
   "metadata": {},
   "outputs": [
    {
     "name": "stdout",
     "output_type": "stream",
     "text": [
      "(32, 32, 3)\n"
     ]
    }
   ],
   "source": [
    "#load dataset\n",
    "def unpickle(file):\n",
    "    with open(file, 'rb') as fo:\n",
    "        dict = pickle.load(fo, encoding='bytes')\n",
    "        #one hot encoding in pandas best method till now\n",
    "        x=pd.Series(dict[b'labels']) \n",
    "        labels=pd.get_dummies(x)\n",
    "        labels=np.array(labels)\n",
    "    return (dict[b'data'].reshape(10000,32,32,3),labels)\n",
    "X_train,Y_train=unpickle(\"cifar-10-batches-py/data_batch_1\")\n",
    "X_test,Y_test=unpickle(\"cifar-10-batches-py/test_batch\")\n"
   ]
  },
  {
   "cell_type": "code",
   "execution_count": 246,
   "metadata": {},
   "outputs": [],
   "source": [
    "#defenition\n",
    "def place_hold(n_H0, n_W0, n_C0, n_y):#height width,depth(channel),no of Classes\n",
    "    X = tf.placeholder(tf.float32, [None, n_H0, n_W0, n_C0])\n",
    "    Y = tf.placeholder(tf.float32, [None, n_y])\n",
    "    return X,Y\n",
    "    "
   ]
  },
  {
   "cell_type": "code",
   "execution_count": 247,
   "metadata": {},
   "outputs": [
    {
     "name": "stdout",
     "output_type": "stream",
     "text": [
      "X = Tensor(\"Placeholder_2:0\", shape=(?, 32, 32, 3), dtype=float32)\n",
      "Y = Tensor(\"Placeholder_3:0\", shape=(?, 10), dtype=float32)\n"
     ]
    }
   ],
   "source": [
    "X,Y=place_hold(32,32,3,10)\n",
    "print (\"X = \" + str(X))\n",
    "print (\"Y = \" + str(Y))"
   ]
  },
  {
   "cell_type": "code",
   "execution_count": 248,
   "metadata": {},
   "outputs": [],
   "source": [
    "#shape of input = [batch, in_height, in_width, in_channels]\n",
    " #  shape of filter = [filter_height, filter_width, in_channels, out_channels]\n",
    "def filter_weights():\n",
    "    W1 = tf.get_variable(\"W1\",[5,5,3,6],initializer=tf.contrib.layers.xavier_initializer(seed=0))\n",
    "    W2 = tf.get_variable(\"W2\",[5,5,6,16],initializer=tf.contrib.layers.xavier_initializer(seed=0))\n",
    "    parameters = {\"W1\": W1,\n",
    "                  \"W2\": W2}\n",
    "    return parameters"
   ]
  },
  {
   "cell_type": "code",
   "execution_count": 249,
   "metadata": {},
   "outputs": [],
   "source": [
    "def forward_propagation(X, parameters):\n",
    "    W1 = parameters['W1']\n",
    "    W2 = parameters['W2']\n",
    "    # CONV2D: stride of 1, padding 'SAME'\n",
    "    Z1 = tf.nn.conv2d(X,W1, strides = [1,1,1,1], padding = 'SAME')\n",
    "    # RELU\n",
    "    A1 = tf.nn.relu(Z1)\n",
    "    # MAXPOOL: window 8x8, sride 8, padding 'SAME'\n",
    "    P1 = tf.nn.max_pool(A1, ksize = [1,5,5,1], strides = [1,1,1,1], padding = 'SAME')\n",
    "    # CONV2D: filters W2, stride 1, padding 'SAME'\n",
    "    Z2 = tf.nn.conv2d(P1,W2, strides = [1,1,1,1], padding = 'SAME')\n",
    "    # RELU\n",
    "    A2 = tf.nn.relu(Z2)\n",
    "    # MAXPOOL: window 4x4, stride 4, padding 'SAME'\n",
    "    P2 = tf.nn.max_pool(A2, ksize = [1,5,5,1], strides = [1,1,1,1], padding = 'SAME')\n",
    "    # FLATTEN\n",
    "    P2 = tf.contrib.layers.flatten(P2)\n",
    "    Z3 = tf.contrib.layers.fully_connected(P2, 10,activation_fn=None)\n",
    "    ### END CODE HERE ###\n",
    "\n",
    "    return Z3"
   ]
  },
  {
   "cell_type": "code",
   "execution_count": 250,
   "metadata": {},
   "outputs": [],
   "source": [
    "def compute_cost(Z3, Y):\n",
    "    cost = tf.nn.softmax_cross_entropy_with_logits(logits = Z3,labels = Y)\n",
    "    cost = tf.reduce_mean(cost)\n",
    "    return cost"
   ]
  },
  {
   "cell_type": "code",
   "execution_count": 251,
   "metadata": {},
   "outputs": [],
   "source": [
    "def model(X_train, Y_train, X_test, Y_test, learning_rate = 0.000001,\n",
    "          num_epochs = 100, minibatch_size =10000, print_cost = True):\n",
    "  \n",
    "    ops.reset_default_graph()                         \n",
    "    tf.set_random_seed(1)                           \n",
    "    seed = 3                                          \n",
    "    (m, n_H0, n_W0, n_C0) = 10,32,32,3        \n",
    "    n_y = Y_train.shape[1]                           \n",
    "    costs = []                                        \n",
    "    X, Y = place_hold(n_H0,n_W0,n_C0,n_y)\n",
    "    parameters =  filter_weights()\n",
    "    Z3 = forward_propagation(X,parameters)\n",
    "    cost = compute_cost(Z3,Y)\n",
    "    optimizer = tf.train.AdamOptimizer(learning_rate=learning_rate).minimize(cost)    \n",
    "    # Initialize all the variables globally\n",
    "    init = tf.global_variables_initializer()\n",
    "    # Start the session to compute the tensorflow graph\n",
    "    with tf.Session() as sess:\n",
    "        sess.run(init)\n",
    "        \n",
    "        # Do the training loop\n",
    "        for epoch in range(num_epochs):\n",
    "            minibatch_cost = 0.     \n",
    "            for i in (0,9999):\n",
    "                (minibatch_X, minibatch_Y) = X_train[i].reshape(1,32,32,3),Y_train[i].reshape(1,10)\n",
    "                _ , temp_cost = sess.run([optimizer,cost],feed_dict={X:minibatch_X,Y:minibatch_Y})\n",
    "                minibatch_cost += temp_cost   \n",
    "            print(\"epochs\"+str(epoch),minibatch_cost)\n",
    "        plt.plot(np.squeeze(costs))\n",
    "        plt.ylabel('cost')\n",
    "        plt.xlabel('iterations (per tens)')\n",
    "        plt.title(\"Learning rate =\" + str(learning_rate))\n",
    "        plt.show()\n",
    "\n",
    "        # Calculate the correct predictions\n",
    "        predict_op = tf.argmax(Z3, 1)\n",
    "        correct_prediction = tf.equal(predict_op, tf.argmax(Y, 1))\n",
    "        \n",
    "        # Calculate accuracy on the test set\n",
    "        accuracy = tf.reduce_mean(tf.cast(correct_prediction, \"float\"))\n",
    "        print(accuracy)\n",
    "        train_accuracy = accuracy.eval({X: X_train, Y: Y_train})\n",
    "        test_accuracy = accuracy.eval({X: X_test, Y: Y_test})\n",
    "        print(\"Train Accuracy:\", train_accuracy)\n",
    "        print(\"Test Accuracy:\", test_accuracy)\n",
    "                \n",
    "        return train_accuracy, test_accuracy, parameters"
   ]
  },
  {
   "cell_type": "code",
   "execution_count": 252,
   "metadata": {},
   "outputs": [
    {
     "name": "stdout",
     "output_type": "stream",
     "text": [
      "epochs0 529.4151611328125\n",
      "epochs1 525.9584655761719\n",
      "epochs2 522.5664520263672\n",
      "epochs3 519.1839904785156\n",
      "epochs4 515.8058776855469\n",
      "epochs5 512.4325408935547\n",
      "epochs6 509.0622100830078\n",
      "epochs7 505.69578552246094\n",
      "epochs8 502.3317565917969\n",
      "epochs9 498.9703826904297\n",
      "epochs10 495.6111755371094\n",
      "epochs11 492.25477600097656\n",
      "epochs12 488.9010467529297\n",
      "epochs13 485.54937744140625\n",
      "epochs14 482.20082092285156\n",
      "epochs15 478.8542175292969\n",
      "epochs16 475.50965881347656\n",
      "epochs17 472.1671600341797\n",
      "epochs18 468.8269805908203\n",
      "epochs19 465.48895263671875\n",
      "epochs20 462.1525573730469\n",
      "epochs21 458.81793212890625\n",
      "epochs22 455.48509216308594\n",
      "epochs23 452.1537780761719\n",
      "epochs24 448.8246612548828\n",
      "epochs25 445.4967041015625\n",
      "epochs26 442.16981506347656\n",
      "epochs27 438.8439025878906\n",
      "epochs28 435.5194854736328\n",
      "epochs29 432.1964874267578\n",
      "epochs30 428.8743896484375\n",
      "epochs31 425.5541229248047\n",
      "epochs32 422.2349090576172\n",
      "epochs33 418.91693115234375\n",
      "epochs34 415.6002197265625\n",
      "epochs35 412.2843780517578\n",
      "epochs36 408.9694519042969\n",
      "epochs37 405.6558532714844\n",
      "epochs38 402.34303283691406\n",
      "epochs39 399.0307922363281\n",
      "epochs40 395.7192840576172\n",
      "epochs41 392.40855407714844\n",
      "epochs42 389.09869384765625\n",
      "epochs43 385.7894592285156\n",
      "epochs44 382.48057556152344\n",
      "epochs45 379.17212677001953\n",
      "epochs46 375.8643569946289\n",
      "epochs47 372.55694580078125\n",
      "epochs48 369.2497253417969\n",
      "epochs49 365.94325256347656\n",
      "epochs50 362.63687896728516\n",
      "epochs51 359.3311538696289\n",
      "epochs52 356.02565002441406\n",
      "epochs53 352.72074127197266\n",
      "epochs54 349.4155578613281\n",
      "epochs55 346.11043548583984\n",
      "epochs56 342.80553436279297\n",
      "epochs57 339.5005874633789\n",
      "epochs58 336.1954650878906\n",
      "epochs59 332.8910446166992\n",
      "epochs60 329.5864562988281\n",
      "epochs61 326.2819137573242\n",
      "epochs62 322.9772415161133\n",
      "epochs63 319.67193603515625\n",
      "epochs64 316.3665771484375\n",
      "epochs65 313.0618362426758\n",
      "epochs66 309.7577819824219\n",
      "epochs67 306.45359802246094\n",
      "epochs68 303.1495895385742\n",
      "epochs69 299.8452606201172\n",
      "epochs70 296.5404968261719\n",
      "epochs71 293.2363739013672\n",
      "epochs72 289.93292236328125\n",
      "epochs73 286.62915802001953\n",
      "epochs74 283.32447052001953\n",
      "epochs75 280.0186996459961\n",
      "epochs76 276.7124710083008\n",
      "epochs77 273.4046401977539\n",
      "epochs78 270.0968551635742\n",
      "epochs79 266.7879180908203\n",
      "epochs80 263.4779357910156\n",
      "epochs81 260.16724395751953\n",
      "epochs82 256.85547637939453\n",
      "epochs83 253.5427703857422\n",
      "epochs84 250.22967529296875\n",
      "epochs85 246.9156265258789\n",
      "epochs86 243.60105514526367\n",
      "epochs87 240.28512954711914\n",
      "epochs88 236.9682731628418\n",
      "epochs89 233.65053176879883\n",
      "epochs90 230.33148574829102\n",
      "epochs91 227.01165390014648\n",
      "epochs92 223.69102096557617\n",
      "epochs93 220.3691291809082\n",
      "epochs94 217.0461311340332\n",
      "epochs95 213.7215347290039\n",
      "epochs96 210.3957176208496\n",
      "epochs97 207.06912231445312\n",
      "epochs98 203.74201583862305\n",
      "epochs99 200.40947723388672\n"
     ]
    },
    {
     "data": {
      "image/png": "[encoded data removed]",
      "text/plain": [
       "<Figure size 432x288 with 1 Axes>"
      ]
     },
     "metadata": {},
     "output_type": "display_data"
    },
    {
     "name": "stdout",
     "output_type": "stream",
     "text": [
      "Tensor(\"Mean_1:0\", shape=(), dtype=float32)\n",
      "Train Accuracy: 0.0869\n",
      "Test Accuracy: 0.0827\n"
     ]
    }
   ],
   "source": [
    "_, _, parameters = model(X_train, Y_train, X_test, Y_test)"
   ]
  },
  {
   "cell_type": "code",
   "execution_count": null,
   "metadata": {},
   "outputs": [],
   "source": []
  }
 ],
 "metadata": {
  "kernelspec": {
   "display_name": "Python 3",
   "language": "python",
   "name": "python3"
  },
  "language_info": {
   "codemirror_mode": {
    "name": "ipython",
    "version": 3
   },
   "file_extension": ".py",
   "mimetype": "text/x-python",
   "name": "python",
   "nbconvert_exporter": "python",
   "pygments_lexer": "ipython3",
   "version": "3.6.5"
  }
 },
 "nbformat": 4,
 "nbformat_minor": 2
}
