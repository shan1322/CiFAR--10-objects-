{
 "cells": [
  {
   "cell_type": "code",
   "execution_count": 2,
   "metadata": {},
   "outputs": [
    {
     "name": "stderr",
     "output_type": "stream",
     "text": [
      "c:\\users\\shantanu\\appdata\\local\\programs\\python\\python36\\lib\\site-packages\\h5py\\__init__.py:36: FutureWarning: Conversion of the second argument of issubdtype from `float` to `np.floating` is deprecated. In future, it will be treated as `np.float64 == np.dtype(float).type`.\n",
      "  from ._conv import register_converters as _register_converters\n",
      "Using TensorFlow backend.\n"
     ]
    }
   ],
   "source": [
    "import math\n",
    "import numpy as np\n",
    "import h5py\n",
    "import matplotlib.pyplot as plt\n",
    "import scipy\n",
    "from PIL import Image\n",
    "from scipy import ndimage\n",
    "import tensorflow as tf\n",
    "from keras.preprocessing import image\n",
    "from tensorflow.python.framework import ops\n",
    "import pickle\n",
    "from matplotlib.pyplot import imshow\n",
    "import matplotlib.pyplot as plt\n",
    "from sklearn.preprocessing import OneHotEncoder\n",
    "#from cnn_utils import *\n",
    "\n",
    "import pandas as pd\n",
    "import os"
   ]
  },
  {
   "cell_type": "code",
   "execution_count": 3,
   "metadata": {},
   "outputs": [],
   "source": [
    "#load dataset\n",
    "def unpickle(file):\n",
    "    with open(file, 'rb') as fo:\n",
    "        dict = pickle.load(fo, encoding='bytes')\n",
    "        #one hot encoding in pandas best method till now\n",
    "        x=pd.Series(dict[b'labels']) \n",
    "        labels=pd.get_dummies(x)\n",
    "        labels=np.array(labels)\n",
    "    return (dict[b'data'].reshape(10000,32,32,3),labels)\n",
    "X_train,Y_train=unpickle(\"cifar-10-batches-py/data_batch_1\")\n",
    "X_test,Y_test=unpickle(\"cifar-10-batches-py/test_batch\")\n"
   ]
  },
  {
   "cell_type": "code",
   "execution_count": 4,
   "metadata": {},
   "outputs": [],
   "source": [
    "#defenition\n",
    "def place_hold(n_H0, n_W0, n_C0, n_y):#height width,depth(channel),no of Classes\n",
    "    X = tf.placeholder(tf.float32, [None, n_H0, n_W0, n_C0])\n",
    "    Y = tf.placeholder(tf.float32, [None, n_y])\n",
    "    return X,Y\n",
    "    "
   ]
  },
  {
   "cell_type": "code",
   "execution_count": 5,
   "metadata": {},
   "outputs": [
    {
     "name": "stdout",
     "output_type": "stream",
     "text": [
      "X = Tensor(\"Placeholder:0\", shape=(?, 32, 32, 3), dtype=float32)\n",
      "Y = Tensor(\"Placeholder_1:0\", shape=(?, 10), dtype=float32)\n"
     ]
    }
   ],
   "source": [
    "X,Y=place_hold(32,32,3,10)\n",
    "print (\"X = \" + str(X))\n",
    "print (\"Y = \" + str(Y))"
   ]
  },
  {
   "cell_type": "code",
   "execution_count": 6,
   "metadata": {},
   "outputs": [],
   "source": [
    "#shape of input = [batch, in_height, in_width, in_channels]\n",
    " #  shape of filter = [filter_height, filter_width, in_channels, out_channels]\n",
    "def filter_weights():\n",
    "    W1 = tf.get_variable(\"W1\",[5,5,3,6],initializer=tf.contrib.layers.xavier_initializer(seed=0))\n",
    "    W2 = tf.get_variable(\"W2\",[5,5,6,16],initializer=tf.contrib.layers.xavier_initializer(seed=0))\n",
    "    W3 = tf.get_variable(\"W3\",[5,5,16,128],initializer=tf.contrib.layers.xavier_initializer(seed=0))\n",
    "\n",
    "    parameters = {\"W1\": W1,\n",
    "                  \"W2\": W2,\n",
    "                  \"W3\":W3}\n",
    "    return parameters"
   ]
  },
  {
   "cell_type": "code",
   "execution_count": 7,
   "metadata": {},
   "outputs": [],
   "source": [
    "def forward_propagation(X, parameters):\n",
    "    W1 = parameters['W1']\n",
    "    W2 = parameters['W2']\n",
    "    W3 = parameters['W3']\n",
    "    Z1 = tf.nn.conv2d(X,W1, strides = [1,1,1,1], padding = 'SAME')\n",
    "    A1 = tf.nn.relu(Z1)\n",
    "    P1 = tf.nn.max_pool(A1, ksize = [1,5,5,1], strides = [1,1,1,1], padding = 'SAME')\n",
    "    Z2 = tf.nn.conv2d(P1,W2, strides = [1,1,1,1], padding = 'SAME')\n",
    "    A2 = tf.nn.relu(Z2)\n",
    "    P2 = tf.nn.max_pool(A2, ksize = [1,5,5,1], strides = [1,1,1,1], padding = 'SAME')\n",
    "    Z3 = tf.nn.conv2d(P2,W3, strides = [1,1,1,1], padding = 'SAME')\n",
    "    A3 = tf.nn.relu(Z3)\n",
    "    P3 = tf.nn.max_pool(A3, ksize = [1,5,5,1], strides = [1,1,1,1], padding = 'SAME')\n",
    "    P3 = tf.contrib.layers.flatten(P3)\n",
    "    Z4 = tf.contrib.layers.fully_connected(P3, 10,activation_fn=None)\n",
    "    return Z4"
   ]
  },
  {
   "cell_type": "code",
   "execution_count": 8,
   "metadata": {},
   "outputs": [],
   "source": [
    "def compute_cost(Z4, Y):\n",
    "    cost = tf.nn.softmax_cross_entropy_with_logits(logits = Z4,labels = Y)\n",
    "    cost = tf.reduce_mean(cost)\n",
    "    return cost"
   ]
  },
  {
   "cell_type": "code",
   "execution_count": 9,
   "metadata": {},
   "outputs": [],
   "source": [
    "def model(X_train, Y_train, X_test, Y_test, learning_rate = 0.000001,\n",
    "          num_epochs = 100, minibatch_size =10000, print_cost = True):\n",
    "  \n",
    "    ops.reset_default_graph()                         \n",
    "    tf.set_random_seed(1)                           \n",
    "    seed = 3                                          \n",
    "    (m, n_H0, n_W0, n_C0) = 10,32,32,3        \n",
    "    n_y = Y_train.shape[1]                           \n",
    "    costs = []                                        \n",
    "    X, Y = place_hold(n_H0,n_W0,n_C0,n_y)\n",
    "    parameters =  filter_weights()\n",
    "    Z3 = forward_propagation(X,parameters)\n",
    "    cost = compute_cost(Z3,Y)\n",
    "    optimizer = tf.train.AdamOptimizer(learning_rate=learning_rate).minimize(cost)    \n",
    "    # Initialize all the variables globally\n",
    "    init = tf.global_variables_initializer()\n",
    "    # Start the session to compute the tensorflow graph\n",
    "    with tf.Session() as sess:\n",
    "        sess.run(init)\n",
    "        \n",
    "        # Do the training loop\n",
    "        for epoch in range(num_epochs):\n",
    "            minibatch_cost = 0.     \n",
    "            for i in (0,9999):\n",
    "                (minibatch_X, minibatch_Y) = X_train[i].reshape(1,32,32,3),Y_train[i].reshape(1,10)\n",
    "                _ , temp_cost = sess.run([optimizer,cost],feed_dict={X:minibatch_X,Y:minibatch_Y})\n",
    "                minibatch_cost += temp_cost   \n",
    "            print(\"epochs\"+str(epoch),minibatch_cost)\n",
    "        plt.plot(np.squeeze(minibatch_cost))\n",
    "        plt.ylabel('cost')\n",
    "        plt.xlabel('iterations (per tens)')\n",
    "        plt.title(\"Learning rate =\" + str(learning_rate))\n",
    "        plt.show()\n",
    "\n",
    "        # Calculate the correct predictions\n",
    "        predict_op = tf.argmax(Z3, 1)\n",
    "        correct_prediction = tf.equal(predict_op, tf.argmax(Y, 1))\n",
    "        \n",
    "        # Calculate accuracy on the test set\n",
    "        accuracy = tf.reduce_mean(tf.cast(correct_prediction, \"float\"))\n",
    "        print(accuracy)\n",
    "        train_accuracy = accuracy.eval({X: X_train, Y: Y_train})\n",
    "        test_accuracy = accuracy.eval({X: X_test, Y: Y_test})\n",
    "        print(\"Train Accuracy:\", train_accuracy)\n",
    "        print(\"Test Accuracy:\", test_accuracy)\n",
    "                \n",
    "        return train_accuracy, test_accuracy, parameters"
   ]
  },
  {
   "cell_type": "code",
   "execution_count": null,
   "metadata": {},
   "outputs": [
    {
     "name": "stdout",
     "output_type": "stream",
     "text": [
      "WARNING:tensorflow:From c:\\users\\shantanu\\appdata\\local\\programs\\python\\python36\\lib\\site-packages\\tensorflow\\contrib\\learn\\python\\learn\\datasets\\base.py:198: retry (from tensorflow.contrib.learn.python.learn.datasets.base) is deprecated and will be removed in a future version.\n",
      "Instructions for updating:\n",
      "Use the retry module or similar alternatives.\n",
      "WARNING:tensorflow:From <ipython-input-8-55f38208d5b0>:2: softmax_cross_entropy_with_logits (from tensorflow.python.ops.nn_ops) is deprecated and will be removed in a future version.\n",
      "Instructions for updating:\n",
      "\n",
      "Future major versions of TensorFlow will allow gradients to flow\n",
      "into the labels input on backprop by default.\n",
      "\n",
      "See tf.nn.softmax_cross_entropy_with_logits_v2.\n",
      "\n",
      "epochs0 45.446688652038574\n",
      "epochs1 34.25781726837158\n",
      "epochs2 23.50455093383789\n",
      "epochs3 14.713554680347443\n",
      "epochs4 12.727615032345057\n",
      "epochs5 11.290761485695839\n",
      "epochs6 10.097166776657104\n",
      "epochs7 9.604262351989746\n",
      "epochs8 9.200508117675781\n",
      "epochs9 8.827279806137085\n",
      "epochs10 8.467315912246704\n",
      "epochs11 8.107194423675537\n",
      "epochs12 7.734713315963745\n",
      "epochs13 7.343144655227661\n",
      "epochs14 6.936070919036865\n",
      "epochs15 6.526094675064087\n",
      "epochs16 6.127051830291748\n",
      "epochs17 5.751762866973877\n",
      "epochs18 5.414862632751465\n",
      "epochs19 5.1292887926101685\n",
      "epochs20 4.9009997844696045\n",
      "epochs21 4.716057300567627\n",
      "epochs22 4.541029095649719\n",
      "epochs23 4.3433767557144165\n",
      "epochs24 4.111666440963745\n",
      "epochs25 3.8556156158447266\n",
      "epochs26 3.590855598449707\n",
      "epochs27 3.327786922454834\n",
      "epochs28 3.0681920051574707\n",
      "epochs29 2.8102904558181763\n",
      "epochs30 2.5578701496124268\n",
      "epochs31 2.3249787092208862\n",
      "epochs32 2.1295381784439087\n",
      "epochs33 1.9732471704483032\n",
      "epochs34 1.8402532935142517\n",
      "epochs35 1.7115312814712524\n",
      "epochs36 1.58018296957016\n",
      "epochs37 1.449715793132782\n",
      "epochs38 1.325171947479248\n",
      "epochs39 1.2086930871009827\n",
      "epochs40 1.1020205616950989\n",
      "epochs41 1.0086039304733276\n",
      "epochs42 0.930378645658493\n",
      "epochs43 0.8652767539024353\n",
      "epochs44 0.8083382248878479\n",
      "epochs45 0.7558003664016724\n",
      "epochs46 0.7060830295085907\n",
      "epochs47 0.65939861536026\n",
      "epochs48 0.6161684393882751\n",
      "epochs49 0.5765094459056854\n",
      "epochs50 0.5405181050300598\n",
      "epochs51 0.5083707273006439\n",
      "epochs52 0.47995464503765106\n",
      "epochs53 0.45487214624881744\n",
      "epochs54 0.4324008524417877\n",
      "epochs55 0.4119262248277664\n",
      "epochs56 0.3928882032632828\n",
      "epochs57 0.3750886619091034\n",
      "epochs58 0.3584239035844803\n",
      "epochs59 0.34285570681095123\n",
      "epochs60 0.3283402919769287\n",
      "epochs61 0.31485916674137115\n",
      "epochs62 0.30233074724674225\n",
      "epochs63 0.29078903794288635\n",
      "epochs64 0.2801346033811569\n",
      "epochs65 0.27023111283779144\n",
      "epochs66 0.2609875276684761\n",
      "epochs67 0.252360075712204\n",
      "epochs68 0.24421147257089615\n",
      "epochs69 0.23649530112743378\n",
      "epochs70 0.22918648272752762\n",
      "epochs71 0.2222396656870842\n",
      "epochs72 0.21562548726797104\n",
      "epochs73 0.20935070514678955\n",
      "epochs74 0.20338357985019684\n",
      "epochs75 0.19772882759571075\n",
      "epochs76 0.19235003739595413\n",
      "epochs77 0.18724747002124786\n",
      "epochs78 0.18239706009626389\n",
      "epochs79 0.17776528000831604\n",
      "epochs80 0.17334215342998505\n",
      "epochs81 0.16911783814430237\n",
      "epochs82 0.16506553441286087\n",
      "epochs83 0.16118253767490387\n",
      "epochs84 0.15745484828948975\n",
      "epochs85 0.15386554598808289\n",
      "epochs86 0.15041301399469376\n",
      "epochs87 0.14707940071821213\n",
      "epochs88 0.14387164264917374\n",
      "epochs89 0.14078118652105331\n",
      "epochs90 0.13780907541513443\n",
      "epochs91 0.13494297862052917\n",
      "epochs92 0.13218529894948006\n",
      "epochs93 0.12951982021331787\n",
      "epochs94 0.1269448958337307\n",
      "epochs95 0.12445445358753204\n",
      "epochs96 0.12204461917281151\n",
      "epochs97 0.1197117455303669\n",
      "epochs98 0.11745182424783707\n",
      "epochs99 0.11526752635836601\n"
     ]
    },
    {
     "data": {
      "image/png": "[encoded data removed]",
      "text/plain": [
       "<Figure size 432x288 with 1 Axes>"
      ]
     },
     "metadata": {},
     "output_type": "display_data"
    },
    {
     "name": "stdout",
     "output_type": "stream",
     "text": [
      "Tensor(\"Mean_1:0\", shape=(), dtype=float32)\n"
     ]
    }
   ],
   "source": [
    "_, _, parameters = model(X_train, Y_train, X_test, Y_test)"
   ]
  },
  {
   "cell_type": "code",
   "execution_count": null,
   "metadata": {},
   "outputs": [],
   "source": []
  }
 ],
 "metadata": {
  "kernelspec": {
   "display_name": "Python 3",
   "language": "python",
   "name": "python3"
  },
  "language_info": {
   "codemirror_mode": {
    "name": "ipython",
    "version": 3
   },
   "file_extension": ".py",
   "mimetype": "text/x-python",
   "name": "python",
   "nbconvert_exporter": "python",
   "pygments_lexer": "ipython3",
   "version": "3.6.5"
  }
 },
 "nbformat": 4,
 "nbformat_minor": 2
}
